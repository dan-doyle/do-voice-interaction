{
  "nbformat": 4,
  "nbformat_minor": 0,
  "metadata": {
    "colab": {
      "name": "Plot_Metrics.ipynb",
      "provenance": [],
      "collapsed_sections": [],
      "authorship_tag": "ABX9TyN8G6nSp277xCC3G69ms1qO",
      "include_colab_link": true
    },
    "kernelspec": {
      "name": "python3",
      "display_name": "Python 3"
    },
    "language_info": {
      "name": "python"
    }
  },
  "cells": [
    {
      "cell_type": "markdown",
      "metadata": {
        "id": "view-in-github",
        "colab_type": "text"
      },
      "source": [
        "<a href=\"https://colab.research.google.com/github/GDO-Galileo/do-voice-interaction/blob/error_correction/gdo_voicebot/grammar_correction_service/grammar_checker_model/Plot_Metrics.ipynb\" target=\"_parent\"><img src=\"https://colab.research.google.com/assets/colab-badge.svg\" alt=\"Open In Colab\"/></a>"
      ]
    },
    {
      "cell_type": "markdown",
      "metadata": {
        "id": "ZQ0r9Pzv4TE4"
      },
      "source": [
        "# **Plot Metrics**\n",
        "\n",
        "This notebook will produce graphs of metrics based on the validation output of our [Grammar Checker Model](https://colab.research.google.com/drive/1_7RQQPkUHyF3ip5vCI0b2aOxSejOZcTv?usp=sharing).\n",
        "\n",
        "The input file is in the format:\n",
        "\n",
        "```\n",
        "Processing Epoch Number: e\n",
        " Train loss: l\n",
        " [[tn fp]\n",
        "  [fn tp]]\n",
        "\n",
        "  Validation Accuracy: a\n",
        "\n",
        "  Validation Correct Recall: rc\n",
        "  Validation Incorrect Recall: ri\n",
        "  Validation Total Recall: r\n",
        "\n",
        "  Validation Correct Precision: pc\n",
        "  Validation Incorrect Precision: pi\n",
        "  Validation Total Precision: p\n",
        "\n",
        "  Validation Correct F1: fc\n",
        "  Validation Incorrect F1: fi\n",
        "  Validation Total F1: f\n",
        "```\n",
        "Repeated for the amount of epochs listed. Only numbers are parsed for, so the labels of the data may be different, however if the order is changed then the `VAL_TYPES` constant below must be modified appropriately.\n",
        "\n",
        "### **Example Metrics Files**\n",
        "\n",
        "Some of our output metrics which can be used with this notebook can be found [here](https://imperialcollegelondon.box.com/s/phuc4dac1j7z7d8gg57zwsofmgszqi93).\n",
        "\n",
        "### **Label Guide:**\n",
        "* e = Epochs\n",
        "* l = Loss\n",
        "* tn = True Negatives\n",
        "* fp = False Positives\n",
        "* fn = False Negatives\n",
        "* tp = True Positives\n",
        "* a = Accuracy\n",
        "* rc = Positive Recall\n",
        "* ri = Negative Recall\n",
        "* r = Macro-Average Recall\n",
        "* pc = Positive Precision\n",
        "* pi = Negative Precision\n",
        "* p = Macro-Average Precision\n",
        "* fc = Positive F1 Measure\n",
        "* fi = Negative F1 Measure\n",
        "* f = Macro-Average F1 Measure"
      ]
    },
    {
      "cell_type": "code",
      "metadata": {
        "id": "xweByHzR3zm7"
      },
      "source": [
        "##################################\n",
        "#      Upload Metrics Files      #\n",
        "##################################\n",
        "\n",
        "# Change the names of files in 'Constants' section\n",
        "from google.colab import files\n",
        "uploaded = files.upload()"
      ],
      "execution_count": null,
      "outputs": []
    },
    {
      "cell_type": "code",
      "metadata": {
        "id": "gvoX2e9W4OBl"
      },
      "source": [
        "###################################\n",
        "#             Imports             #\n",
        "###################################\n",
        "\n",
        "import sys\n",
        "import re\n",
        "import matplotlib.pyplot as plt"
      ],
      "execution_count": null,
      "outputs": []
    },
    {
      "cell_type": "markdown",
      "metadata": {
        "id": "9jCcyGHHGbpU"
      },
      "source": [
        "## **Parsing Files and Plotting Graphs**\n",
        "\n",
        "Each file in the `FILE_NAMES` list is parsed for decimals. The list of numbers is then split into `NUM_VALS`, or the amount of metrics generated per epoch (including the epoch number). These are then separated into lists of each type of metric, for example a list `[1, 2, 3, 4, 5...]` of epoch numbers. These are then all plotted, with the **x axis** as the **number of epochs** and the **y axis** as **each other metric**."
      ]
    },
    {
      "cell_type": "code",
      "metadata": {
        "id": "cxne76_k5rca"
      },
      "source": [
        "###################################\n",
        "#            Constants            #\n",
        "###################################\n",
        "\n",
        "# Name of each file to produce graphs for\n",
        "FILE_NAMES = [\"metrics-output-file.txt\"]\n",
        "\n",
        "# Names of each set of values\n",
        "VAL_TYPES = [\"Epochs\", \"Training Loss\", \"True Negatives\", \"False Positives\",\n",
        "             \"False Negatives\", \"True Positives\", \"Accuracy\", \"Positive Recall\",\n",
        "             \"Negative Recall\", \"Macro-Average Recall\", \"Positive Precision\",\n",
        "             \"Negative Precision\", \"Macro-Average Precision\", \"Positive F1 Measure\",\n",
        "             \"Negative F1 Measure\", \"Macro-Average F1 Measure\"]\n",
        "\n",
        "# Number of number values generated per epoch\n",
        "NUM_VALS = len(VAL_TYPES)"
      ],
      "execution_count": null,
      "outputs": []
    },
    {
      "cell_type": "code",
      "metadata": {
        "id": "VEDZ3rjp53ms"
      },
      "source": [
        "##################################\n",
        "#     Parse files for values     #\n",
        "##################################\n",
        "\n",
        "# Go through each uploaded inputfile to produce graphs\n",
        "for inputfile in FILE_NAMES:\n",
        "\n",
        "  # Take data from file\n",
        "  file = open(inputfile, \"r\")\n",
        "  data = file.read()\n",
        "  file.close()\n",
        "\n",
        "  # Matches all numbers not preceeded by 'F' (to exclude the 'F1'\n",
        "  #   substring) or nans\n",
        "  numbers = re.findall(re.compile(\"((?<!F)\\d\\.?\\d*)|nan\"), data)\n",
        "\n",
        "  # Divide numbers into chunks with NUM_VALS elements (since this is the\n",
        "  #   amount of numbers per epoch)\n",
        "  epoch_values = []\n",
        "  for i in range(0, len(numbers), NUM_VALS):\n",
        "    epoch_values.append(numbers[i:i + NUM_VALS])\n",
        "\n",
        "  # Convert to lists by type of value rather than by epoch\n",
        "  epochs = len(epoch_values)\n",
        "  value_types = [[] for _ in range(NUM_VALS)]\n",
        "  for epoch_nums in epoch_values:\n",
        "    for i in range(len(epoch_nums)):\n",
        "      if epoch_nums[i] == '':\n",
        "        value = None\n",
        "      else:\n",
        "        value = float(epoch_nums[i])\n",
        "\n",
        "      value_types[i].append(value)\n",
        "\n",
        "  # Show labeled graphs of each type of data with x being the first type of\n",
        "  #   data (Epochs)\n",
        "  for i in range(1, NUM_VALS):\n",
        "    fig = plt.figure()\n",
        "    plt.plot(value_types[0], value_types[i], '-')\n",
        "    plt.plot(value_types[0], value_types[i], 'rs')\n",
        "    fig.suptitle(inputfile)\n",
        "    plt.xlabel(VAL_TYPES[0])\n",
        "    plt.ylabel(VAL_TYPES[i])\n",
        "    plt.show()"
      ],
      "execution_count": null,
      "outputs": []
    }
  ]
}