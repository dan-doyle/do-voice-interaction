{
  "nbformat": 4,
  "nbformat_minor": 0,
  "metadata": {
    "colab": {
      "name": "Pre-Processing_Datasets.ipynb",
      "provenance": [],
      "collapsed_sections": [
        "8EpRiUK8bLBp"
      ],
      "include_colab_link": true
    },
    "kernelspec": {
      "display_name": "Python 3",
      "name": "python3"
    },
    "language_info": {
      "name": "python"
    }
  },
  "cells": [
    {
      "cell_type": "markdown",
      "metadata": {
        "id": "view-in-github",
        "colab_type": "text"
      },
      "source": [
        "<a href=\"https://colab.research.google.com/github/GDO-Galileo/do-voice-interaction/blob/error_correction/gdo_voicebot/grammar_correction_service/grammar_checker_model/Pre_Processing_Datasets.ipynb\" target=\"_parent\"><img src=\"https://colab.research.google.com/assets/colab-badge.svg\" alt=\"Open In Colab\"/></a>"
      ]
    },
    {
      "cell_type": "markdown",
      "metadata": {
        "id": "bQ5UkWriqUfc"
      },
      "source": [
        "# **Pre-Processing for Lang-8 and CoLA datasets**\n",
        "This notebook will produce four files for use in training our [Grammar Checker Model](https://colab.research.google.com/drive/1_7RQQPkUHyF3ip5vCI0b2aOxSejOZcTv?usp=sharing):\n",
        "\n",
        "*   lang-8-train.tsv\n",
        "*   cola-train.tsv\n",
        "*   cola-validate.tsv\n",
        "*   cola-test.tsv\n",
        "\n",
        "Each one will contain lines of labeled sentences with columns separated by tab characters in the format:\n",
        "\n",
        "```\n",
        "  Column     Description\n",
        " ------------------------------------------------------------------------------------------\n",
        "    1\t    the acceptability judgment label (0 = unacceptable, 1 = acceptable).\n",
        "    2 \t   the (now parsed) lowercase sentence with no puntuation apart from apostrophes.\n",
        "```\n",
        "For example, a sample from 'cola-train.tsv' reads:\n",
        "```\n",
        "  1     john and the man went to the store\n",
        "  0     i loved intensely the policeman with all my heart\n",
        "  0     i'm sure we got any tickets\n",
        "  1     the umpire called the game off\n",
        "```\n",
        "\n",
        "The two datasets used for this model are the [Lang-8 Corpus of Learner English](https://sites.google.com/site/naistlang8corpora/) and the [Corpus of Linguistic Acceptability (CoLA)](https://nyu-mll.github.io/CoLA/).\n"
      ]
    },
    {
      "cell_type": "code",
      "metadata": {
        "id": "-uPZhFB8yQ99"
      },
      "source": [
        "###################################\n",
        "#             Imports             #\n",
        "###################################\n",
        "\n",
        "import sys\n",
        "import io\n",
        "import re\n",
        "import os\n",
        "import math\n",
        "import random\n",
        "from random import randint"
      ],
      "execution_count": null,
      "outputs": []
    },
    {
      "cell_type": "code",
      "metadata": {
        "colab": {
          "resources": {
            "http://localhost:8080/nbextensions/google.colab/files.js": {
              "data": "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",
              "ok": true,
              "headers": [
                [
                  "content-type",
                  "application/javascript"
                ]
              ],
              "status": 200,
              "status_text": ""
            }
          },
          "base_uri": "https://localhost:8080/",
          "height": 525
        },
        "id": "WgWpZaNlqTOC",
        "outputId": "d8edd326-2652-4490-b2b3-90d684d5ffe1"
      },
      "source": [
        "###################################\n",
        "#      Download raw datasets      #\n",
        "###################################\n",
        "\n",
        "## Lang-8 ##\n",
        "# source: https://docs.google.com/forms/d/17gZZsC_rnaACMXmPiab3kjqBEtRHPMz0UG9Dk-x_F0k\n",
        "\n",
        "# Upload 'lang-8-en-1.0.zip'\n",
        "from google.colab import files\n",
        "uploaded = files.upload()\n",
        "\n",
        "!unzip lang-8-en-1.0.zip\n",
        "!cp ./lang-8-en-1.0/entries.train .\n",
        "\n",
        "## Cola ##\n",
        "# source: https://nyu-mll.github.io/CoLA\n",
        "\n",
        "!wget https://nyu-mll.github.io/CoLA/cola_public_1.1.zip\n",
        "!unzip cola_public_1.1.zip \n",
        "!cp ./cola_public/raw/in_domain_train.tsv .\n",
        "!cp ./cola_public/raw/out_of_domain_dev.tsv .\n",
        "\n",
        "## Check all files are present ##\n",
        "# Folder should contain:\n",
        "#   - entries.train\n",
        "#   - in_domain_train.tsv\n",
        "#   - out_of_domain_dev.tsv\n",
        "print(\"\")\n",
        "print(\"Files List:\")\n",
        "%ls"
      ],
      "execution_count": null,
      "outputs": [
        {
          "output_type": "display_data",
          "data": {
            "text/html": [
              "\n",
              "     <input type=\"file\" id=\"files-8ace485a-9bdf-45df-b157-2fe95bc45836\" name=\"files[]\" multiple disabled\n",
              "        style=\"border:none\" />\n",
              "     <output id=\"result-8ace485a-9bdf-45df-b157-2fe95bc45836\">\n",
              "      Upload widget is only available when the cell has been executed in the\n",
              "      current browser session. Please rerun this cell to enable.\n",
              "      </output>\n",
              "      <script src=\"/nbextensions/google.colab/files.js\"></script> "
            ],
            "text/plain": [
              "<IPython.core.display.HTML object>"
            ]
          },
          "metadata": {}
        },
        {
          "output_type": "stream",
          "name": "stdout",
          "text": [
            "unzip:  cannot find or open lang-8-en-1.0.zip, lang-8-en-1.0.zip.zip or lang-8-en-1.0.zip.ZIP.\n",
            "cp: cannot stat './lang-8-en-1.0/entries.train': No such file or directory\n",
            "--2021-11-29 19:53:38--  https://nyu-mll.github.io/CoLA/cola_public_1.1.zip\n",
            "Resolving nyu-mll.github.io (nyu-mll.github.io)... 185.199.109.153, 185.199.110.153, 185.199.111.153, ...\n",
            "Connecting to nyu-mll.github.io (nyu-mll.github.io)|185.199.109.153|:443... connected.\n",
            "HTTP request sent, awaiting response... 200 OK\n",
            "Length: 255330 (249K) [application/zip]\n",
            "Saving to: ‘cola_public_1.1.zip’\n",
            "\n",
            "cola_public_1.1.zip 100%[===================>] 249.35K  --.-KB/s    in 0.02s   \n",
            "\n",
            "2021-11-29 19:53:38 (11.3 MB/s) - ‘cola_public_1.1.zip’ saved [255330/255330]\n",
            "\n",
            "Archive:  cola_public_1.1.zip\n",
            "   creating: cola_public/\n",
            "  inflating: cola_public/README      \n",
            "   creating: cola_public/tokenized/\n",
            "  inflating: cola_public/tokenized/in_domain_dev.tsv  \n",
            "  inflating: cola_public/tokenized/in_domain_train.tsv  \n",
            "  inflating: cola_public/tokenized/out_of_domain_dev.tsv  \n",
            "   creating: cola_public/raw/\n",
            "  inflating: cola_public/raw/in_domain_dev.tsv  \n",
            "  inflating: cola_public/raw/in_domain_train.tsv  \n",
            "  inflating: cola_public/raw/out_of_domain_dev.tsv  \n",
            "\n",
            "Files List:\n",
            "\u001b[0m\u001b[01;34mcola_public\u001b[0m/         in_domain_train.tsv    \u001b[01;34msample_data\u001b[0m/\n",
            "cola_public_1.1.zip  out_of_domain_dev.tsv\n"
          ]
        }
      ]
    },
    {
      "cell_type": "code",
      "metadata": {
        "id": "9ytH0cH6x5xN"
      },
      "source": [
        "###################################\n",
        "#        General Constants        #\n",
        "###################################\n",
        "\n",
        "# File names\n",
        "LANG_INPUT = 'entries.train'\n",
        "LANG_OUTPUT = 'lang-8-train.tsv'\n",
        "\n",
        "COLA_TRAIN_INPUT = 'in_domain_train.tsv'\n",
        "COLA_TEST_INPUT = 'out_of_domain_dev.tsv'\n",
        "COLA_TRAIN_OUTPUT = 'cola-train.tsv'\n",
        "COLA_VAL_OUTPUT = 'cola-validate.tsv'\n",
        "COLA_TEST_OUTPUT = 'cola-test.tsv'\n",
        "\n",
        "# Indexes of output columns\n",
        "NEW_LABEL = 0\n",
        "PARSED = 1\n",
        "\n",
        "# Output acceptability label definitions\n",
        "CORRECT = '1'\n",
        "INCORRECT = '0'"
      ],
      "execution_count": null,
      "outputs": []
    },
    {
      "cell_type": "code",
      "metadata": {
        "id": "Kepw4wDXyou3"
      },
      "source": [
        "###################################\n",
        "#        General Functions        #\n",
        "###################################\n",
        "\n",
        "# Count all lines in a file\n",
        "def count_lines(file_name):\n",
        "  num_lines = 0\n",
        "  for line in open(file_name):\n",
        "    # Skip empty lines\n",
        "    if line != \"\\n\":\n",
        "      num_lines += 1\n",
        "\n",
        "  return num_lines\n",
        "\n",
        "\n",
        "# Removes all punctuation and extra spaces apart from apostrophes\n",
        "def remove_punc(str):\n",
        "  str = re.sub('  ', ' ', str)\n",
        "  str = re.sub(' \\'', '\\'', str)\n",
        "  str = re.sub(' n\\'t', 'n\\'t', str)\n",
        "  str = re.sub(' \\.', '.', str)\n",
        "  str = re.sub(' ,', ',', str)\n",
        "  str = re.sub(' \\?', '?', str)\n",
        "  str = re.sub(' !', '!', str)\n",
        "  str = re.sub('\\n', '', str)\n",
        "\n",
        "  return str.translate({ord(i): None for i in '?!\"`[]{}()#~/\\\\.,><@:;+=_-*&^%$£'})\n",
        "\n",
        "\n",
        "# Write a list of parsed_lines to file_name\n",
        "def write_parsed(file_name, parsed_lines):\n",
        "  sys.stdout.write(\"Writing to {}...\".format(file_name))\n",
        "  sys.stdout.flush()\n",
        "\n",
        "  o = open(file_name, \"w\")\n",
        "  for line in parsed_lines:\n",
        "      o.write(line)\n",
        "  o.close()\n",
        "\n",
        "  sys.stdout.write(\"\\rWriting to {}... Complete\\n\".format(file_name))\n",
        "  sys.stdout.flush()"
      ],
      "execution_count": null,
      "outputs": []
    },
    {
      "cell_type": "markdown",
      "metadata": {
        "id": "8EpRiUK8bLBp"
      },
      "source": [
        "## **Lang-8 Parsing**\n",
        "\n",
        "This part will produce the file 'lang-8-train.tsv' from the input file 'entries.train', which can then be used for pretraining our model.\n",
        "\n",
        "The Lang-8 dataset is presented in the format (as described in the dataset's documentation):\n",
        "```\n",
        "  Column           Description\n",
        " ----------------------------------------------------------------------------------\n",
        "    1              the acceptability judgment label (1=unacceptable, 0=acceptable).\n",
        "    2              Serial number\n",
        "    3              the URL of the entry\n",
        "    4              Sentence number. 0 is the title\n",
        "    5              Sentence written by a learner of English\n",
        " anything after 6  Corrected Sentences (If exists)\n",
        "```\n",
        "During parsing, we remove all titles and all sentences that are initally marked as correct. This is to ensure that all sentences marked as correct are sentences written by a corrector of English rather than a learner of English, making the outputted dataset more reliable."
      ]
    },
    {
      "cell_type": "code",
      "metadata": {
        "id": "LK4S7Xf9EatN"
      },
      "source": [
        "##################################\n",
        "#        Lang-8 Constants        #\n",
        "##################################\n",
        "\n",
        "# Indexes of input columns\n",
        "LABEL = 0\n",
        "SERIAL = 1\n",
        "URL = 2\n",
        "SENT_NUM = 3\n",
        "LEARNER_SENT = 4\n",
        "CORRECTED_SENT = 5\n",
        "\n",
        "# Sentence number title marker\n",
        "TITLE = '0'\n",
        "\n",
        "# Input acceptability label definitions\n",
        "OLD_CORRECT = '0'\n",
        "OLD_INCORRECT = '1'\n",
        "\n",
        "# Values used to sample data randomly\n",
        "#   approximately SAMPLE_SIZE/SAMPLE_NUM sentences will be selected\n",
        "SAMPLE_SIZE = 205\n",
        "SAMPLE_NUM = 10000"
      ],
      "execution_count": null,
      "outputs": []
    },
    {
      "cell_type": "code",
      "metadata": {
        "colab": {
          "base_uri": "https://localhost:8080/"
        },
        "id": "8pPa__RsE0S-",
        "outputId": "71f3a783-3c5e-483b-88fe-2e2f350bb91a"
      },
      "source": [
        "###################################\n",
        "#           Count lines           #\n",
        "###################################\n",
        "\n",
        "num_lines = count_lines(LANG_INPUT)\n",
        "print(\"Total Entries: %i\" % num_lines)"
      ],
      "execution_count": null,
      "outputs": [
        {
          "output_type": "stream",
          "name": "stdout",
          "text": [
            "Total Entries: 1037561\n"
          ]
        }
      ]
    },
    {
      "cell_type": "code",
      "metadata": {
        "colab": {
          "base_uri": "https://localhost:8080/"
        },
        "id": "iA_fsslBJr90",
        "outputId": "97f76f23-8339-47e8-f2b3-1783699b87cf"
      },
      "source": [
        "###################################\n",
        "#    Parse into correct format    #\n",
        "###################################\n",
        "\n",
        "f = open(LANG_INPUT, \"r\")\n",
        "\n",
        "entry_count = 0\n",
        "num_processed_entries = 0\n",
        "num_parsed_lines = 0\n",
        "parsed_lines = []\n",
        "for line in f:\n",
        "  # Skip empty lines\n",
        "  if line == \"\\n\":\n",
        "    continue\n",
        "\n",
        "  # Calculate percentage of lines processed\n",
        "  entry_count += 1\n",
        "  percent = entry_count / num_lines * 100\n",
        "  sys.stdout.write(\"\\rProcessing sentence %i/%i: %i%%\" % (entry_count, num_lines, percent))\n",
        "  sys.stdout.flush()\n",
        "\n",
        "  # Split by tab character\n",
        "  columns = line.split('\\t')\n",
        "\n",
        "  # Remove entries marked as correct and titles\n",
        "  if columns[LABEL] == OLD_CORRECT or columns[SENT_NUM] == TITLE:\n",
        "    continue\n",
        "\n",
        "  num_processed_entries += 1\n",
        "\n",
        "  # Take SAMPLE_NUM/SAMPLE_SIZE learner sentences and format them\n",
        "  if randint(1,SAMPLE_NUM) <= SAMPLE_SIZE:\n",
        "    num_parsed_lines += 1\n",
        "    parsed_lines.append((INCORRECT + '\\t' + remove_punc(columns[LEARNER_SENT]) + '\\n').lower())\n",
        "\n",
        "  # Take SAMPLE_NUM/SAMPLE_SIZE corrected sentences and format them\n",
        "  if len(columns) > CORRECTED_SENT and randint(1,SAMPLE_NUM) <= SAMPLE_SIZE:\n",
        "    num_parsed_lines += 1\n",
        "    parsed_lines.append((CORRECT + '\\t' + remove_punc(columns[CORRECTED_SENT]) + '\\n').lower())\n",
        "\n",
        "  # Remove sentences with only corrected punctuation\n",
        "  if (num_parsed_lines >= 2 and parsed_lines[-2] == parsed_lines[-1]):\n",
        "    num_parsed_lines -= 2\n",
        "    parsed_lines = parsed_lines[:-3]\n",
        "\n",
        "f.close()\n",
        "\n",
        "print(\"\\nTotal Usable Entries: %i\" % num_processed_entries)\n",
        "print(\"Total Output Entries: %i\" % num_parsed_lines)\n",
        "\n",
        "# Shuffle lines\n",
        "random.shuffle(parsed_lines)"
      ],
      "execution_count": null,
      "outputs": [
        {
          "output_type": "stream",
          "name": "stdout",
          "text": [
            "Processing sentence 1037561/1037561: 100%\n",
            "Total Processed Entries: 494247\n",
            "Total Output Entries: 20240\n"
          ]
        }
      ]
    },
    {
      "cell_type": "code",
      "metadata": {
        "id": "sMB7vuCyKE6G",
        "colab": {
          "base_uri": "https://localhost:8080/"
        },
        "outputId": "6d0b1871-a57d-4619-d696-a5d9c6ef0f72"
      },
      "source": [
        "###################################\n",
        "#  Balance correct and incorrect  #\n",
        "###################################\n",
        "\n",
        "# Split into incorrect and correct lines\n",
        "correct = []\n",
        "incorrect = []\n",
        "for line in parsed_lines:\n",
        "  # Separate by tab character\n",
        "  columns = line.split('\\t')\n",
        "\n",
        "  # Count correct and incorrect lines\n",
        "  if columns[NEW_LABEL] == CORRECT:\n",
        "    correct.append(line)\n",
        "  else:\n",
        "    incorrect.append(line)\n",
        "\n",
        "num_correct = len(correct)\n",
        "num_incorrect = len(incorrect)\n",
        "\n",
        "print(\"Correct Entries: %i\" % num_correct)\n",
        "print(\"Incorrect Entries: %i\" % num_incorrect)\n",
        "\n",
        "if num_correct > num_incorrect:\n",
        "  difference = num_correct - num_incorrect\n",
        "  correct = correct[:-difference]\n",
        "elif num_incorrect > num_correct:\n",
        "  difference = num_incorrect - num_correct\n",
        "  incorrect = incorrect[:-difference]\n",
        "\n",
        "# Add lines together and shuffle\n",
        "parsed_lines = correct + incorrect\n",
        "random.shuffle(parsed_lines)\n",
        "\n",
        "print(\"\")\n",
        "print(\"New Correct Entries: %i\" % len(correct))\n",
        "print(\"New Incorrect Entries: %i\" % len(incorrect))"
      ],
      "execution_count": null,
      "outputs": [
        {
          "output_type": "stream",
          "name": "stdout",
          "text": [
            "Correct Entries: 10127\n",
            "Incorrect Entries: 10113\n",
            "\n",
            "New Correct Entries: 10113\n",
            "New Incorrect Entries: 10113\n"
          ]
        }
      ]
    },
    {
      "cell_type": "code",
      "metadata": {
        "id": "WTFcTyujKNdK",
        "colab": {
          "base_uri": "https://localhost:8080/"
        },
        "outputId": "72b631f6-eeec-47dd-9966-bce110840bf8"
      },
      "source": [
        "##################################\n",
        "#      Write to output file      #\n",
        "##################################\n",
        "\n",
        "write_parsed(LANG_OUTPUT, parsed_lines)"
      ],
      "execution_count": null,
      "outputs": [
        {
          "output_type": "stream",
          "name": "stdout",
          "text": [
            "Writing to lang-8-train.tsv... Complete\n"
          ]
        }
      ]
    },
    {
      "cell_type": "markdown",
      "metadata": {
        "id": "W844G6HnKWkj"
      },
      "source": [
        "## **CoLA Parsing**\n",
        "\n",
        "This part will produce the files 'cola-train.tsv', 'cola-validate.tsv' and 'cola-test.tsv', which can be used for training, validating and testing our model respectively. 'cola-train.tsv' and 'cola-validate.tsv' are both generated from CoLA's 'in_domain_train.tsv' training file, while 'cola-test.tsv' is generated from 'out_of_domain_dev.tsv'.\n",
        "\n",
        "The CoLA dataset is presented in the format (as described in the dataset's documentation):\n",
        "```\n",
        "  Column     Description\n",
        " ----------------------------------------------------------------------------\n",
        "    1\t    the code representing the source of the sentence.\n",
        "    2\t    the acceptability judgment label (0=unacceptable, 1=acceptable).\n",
        "    3\t    the acceptability judgment as originally notated by the author.\n",
        "    4 \t   the sentence.\n",
        "```"
      ]
    },
    {
      "cell_type": "code",
      "metadata": {
        "id": "mV8w8tu8LSw_"
      },
      "source": [
        "##################################\n",
        "#         CoLA Constants         #\n",
        "##################################\n",
        "\n",
        "# Indexes of input columns\n",
        "SOURCE = 0\n",
        "LABEL = 1\n",
        "AUTHOR_LABEL = 2\n",
        "SENTENCE = 3\n",
        "\n",
        "# Percentage to take as a validation set\n",
        "VALIDATION_PERC = 0.1"
      ],
      "execution_count": null,
      "outputs": []
    },
    {
      "cell_type": "code",
      "metadata": {
        "id": "8G5kcywZRskV"
      },
      "source": [
        "##################################\n",
        "#         CoLA Functions         #\n",
        "##################################\n",
        "\n",
        "# Parse lines in file_name to be in the output format with sentences lowercase\n",
        "#   and without punctuation apart from apostrophes\n",
        "def cola_parse(file_name, num_lines):\n",
        "  f = open(file_name, \"r\")\n",
        "\n",
        "  entry_count = 0\n",
        "  parsed_lines = []\n",
        "  for line in f:\n",
        "    # Calculate percentage of lines processed\n",
        "    entry_count += 1\n",
        "    percent = entry_count / num_lines * 100\n",
        "    sys.stdout.write(\"\\rProcessing sentence %i/%i: %i%%\" % (entry_count, num_lines, percent))\n",
        "    sys.stdout.flush()\n",
        "\n",
        "    # Split by tab character and reformat line\n",
        "    columns = line.split('\\t')\n",
        "    parsed_line = columns[LABEL] + '\\t' + remove_punc(columns[SENTENCE]) + '\\n'\n",
        "    parsed_lines.append(parsed_line.lower())\n",
        "\n",
        "  f.close()\n",
        "\n",
        "  return parsed_lines\n",
        "\n",
        "\n",
        "# Oversample incorrect entries if needed\n",
        "def cola_oversample(parsed_lines):\n",
        "  # Separate correct and incorrect sentences\n",
        "  incorrect = []\n",
        "  correct = []\n",
        "  for line in parsed_lines:\n",
        "    # Skip empty lines\n",
        "    if line == \"\\n\":\n",
        "      continue\n",
        "\n",
        "    columns = line.split('\\t')\n",
        "\n",
        "    if columns[NEW_LABEL] == INCORRECT:\n",
        "      incorrect.append(line)\n",
        "    else:\n",
        "      correct.append(line)\n",
        "\n",
        "  num_incorrect = len(incorrect)\n",
        "  num_correct = len(correct)\n",
        "\n",
        "  print(\"Total Correct Entries: %i\" % num_correct)\n",
        "  print(\"Total Incorrect Entries: %i\" % num_incorrect)\n",
        "\n",
        "  # Oversample incorrect entries if needed\n",
        "  total_incorrect = incorrect\n",
        "  if num_incorrect < num_correct:\n",
        "\n",
        "    # Find percent needed to add\n",
        "    difference = num_correct - num_incorrect\n",
        "    percent_addition = difference/num_incorrect\n",
        "\n",
        "    # Adding full set\n",
        "    for _ in range(math.floor(percent_addition)):\n",
        "      total_incorrect += incorrect\n",
        "\n",
        "    # Add extra entries taken at random to fill the rest of the total\n",
        "    percent_addition -= math.floor(percent_addition)\n",
        "    num_extra_lines = round(num_incorrect * percent_addition)\n",
        "\n",
        "    random.shuffle(incorrect)\n",
        "    total_incorrect += incorrect[:num_extra_lines]\n",
        "\n",
        "  num_total_incorrect = len(total_incorrect)\n",
        "\n",
        "  total_lines = correct + total_incorrect\n",
        "  num_total_lines = len(total_lines)\n",
        "\n",
        "  print(\"\")\n",
        "  print(\"New Total Incorrect Entries: %i\" % num_total_incorrect)\n",
        "  print(\"New Total Entries: %i\" % num_total_lines)\n",
        "\n",
        "  # Shuffle final set\n",
        "  random.shuffle(total_lines)\n",
        "\n",
        "  return total_lines"
      ],
      "execution_count": null,
      "outputs": []
    },
    {
      "cell_type": "markdown",
      "metadata": {
        "id": "WGdDiT12T1e9"
      },
      "source": [
        "### CoLA Train and Validation Parsing\n",
        "\n",
        "This part of the code produces 'cola-train.tsv' and 'cola-validate.tsv' from the input file 'in-domain-train.tsv'.\n",
        "\n"
      ]
    },
    {
      "cell_type": "code",
      "metadata": {
        "id": "zEyiWCoXLl_t",
        "colab": {
          "base_uri": "https://localhost:8080/"
        },
        "outputId": "3701886b-45e3-43e7-a461-3ff75a048a4b"
      },
      "source": [
        "###################################\n",
        "#           Count lines           #\n",
        "###################################\n",
        "\n",
        "num_lines = count_lines(COLA_TRAIN_INPUT)\n",
        "print(\"Total Entries: %i\" % num_lines)"
      ],
      "execution_count": null,
      "outputs": [
        {
          "output_type": "stream",
          "name": "stdout",
          "text": [
            "Total Entries: 8551\n"
          ]
        }
      ]
    },
    {
      "cell_type": "code",
      "metadata": {
        "id": "SZKNoVaVMOgq",
        "colab": {
          "base_uri": "https://localhost:8080/"
        },
        "outputId": "4c315144-2308-4970-ff13-70a1d884f8b4"
      },
      "source": [
        "###################################\n",
        "#    Parse into correct format    #\n",
        "###################################\n",
        "\n",
        "parsed_lines = cola_parse(COLA_TRAIN_INPUT, num_lines)"
      ],
      "execution_count": null,
      "outputs": [
        {
          "output_type": "stream",
          "name": "stdout",
          "text": [
            "Processing sentence 8551/8551: 100%"
          ]
        }
      ]
    },
    {
      "cell_type": "code",
      "metadata": {
        "id": "Id49uSyiMWWJ",
        "colab": {
          "base_uri": "https://localhost:8080/"
        },
        "outputId": "1003e9d9-947a-4e14-a36d-2afbf7f0ce0f"
      },
      "source": [
        "##########################################\n",
        "#  Split into train and validation sets  #\n",
        "##########################################\n",
        "\n",
        "# Get number of validation lines based on VALIDATION_PERC\n",
        "num_validation_lines = round(len(parsed_lines) * VALIDATION_PERC)\n",
        "\n",
        "# Shuffle before splitting\n",
        "random.shuffle(parsed_lines)\n",
        "\n",
        "# Split into two lists\n",
        "validation_lines = parsed_lines[:num_validation_lines]\n",
        "train_lines = parsed_lines[(num_validation_lines + 1):]\n",
        "\n",
        "print(\"Total Train Output Entries: %i\" % (len(parsed_lines) - num_validation_lines))\n",
        "print(\"Total Validation Output Entries: %i\" % num_validation_lines)"
      ],
      "execution_count": null,
      "outputs": [
        {
          "output_type": "stream",
          "name": "stdout",
          "text": [
            "Total Train Output Entries: 7696\n",
            "Total Validation Output Entries: 855\n"
          ]
        }
      ]
    },
    {
      "cell_type": "code",
      "metadata": {
        "id": "GigLuQQwLo-y",
        "colab": {
          "base_uri": "https://localhost:8080/"
        },
        "outputId": "3c5a7cd2-042e-467b-dd1b-ed1f82726bfc"
      },
      "source": [
        "###################################\n",
        "#    Duplicate incorrect lines    #\n",
        "###################################\n",
        "\n",
        "print(\"Train Oversampling:\")\n",
        "total_train_lines = cola_oversample(train_lines)\n",
        "\n",
        "print(\"\\nValidation Oversampling:\")\n",
        "total_val_lines = cola_oversample(validation_lines)\n"
      ],
      "execution_count": null,
      "outputs": [
        {
          "output_type": "stream",
          "name": "stdout",
          "text": [
            "Train Oversampling:\n",
            "Total Correct Entries: 5414\n",
            "Total Incorrect Entries: 2281\n",
            "\n",
            "New Total Incorrect Entries: 5414\n",
            "New Total Entries: 10828\n",
            "\n",
            "Validation Oversampling:\n",
            "Total Correct Entries: 608\n",
            "Total Incorrect Entries: 247\n",
            "\n",
            "New Total Incorrect Entries: 608\n",
            "New Total Entries: 1216\n"
          ]
        }
      ]
    },
    {
      "cell_type": "code",
      "metadata": {
        "id": "fytAClXhMb1-",
        "colab": {
          "base_uri": "https://localhost:8080/"
        },
        "outputId": "722c78c1-71ed-48da-ba9a-cc2d95127313"
      },
      "source": [
        "###################################\n",
        "#      Write to output files      #\n",
        "###################################\n",
        "\n",
        "# Write to train file\n",
        "write_parsed(COLA_TRAIN_OUTPUT, total_train_lines)\n",
        "\n",
        "# Write to validation file\n",
        "write_parsed(COLA_VAL_OUTPUT, total_val_lines)"
      ],
      "execution_count": null,
      "outputs": [
        {
          "output_type": "stream",
          "name": "stdout",
          "text": [
            "Writing to cola-train.tsv... Complete\n",
            "Writing to cola-validate.tsv... Complete\n"
          ]
        }
      ]
    },
    {
      "cell_type": "markdown",
      "metadata": {
        "id": "INoES3SSUFWL"
      },
      "source": [
        "### CoLA Test Parsing\n",
        "\n",
        "This part produces the file 'cola-test.tsv' using the file 'out-of-domain-dev.tsv' as input."
      ]
    },
    {
      "cell_type": "code",
      "metadata": {
        "id": "eiBFm_2DUKIV",
        "colab": {
          "base_uri": "https://localhost:8080/"
        },
        "outputId": "a29aa812-23e3-46a1-f835-1c7b4002d2c5"
      },
      "source": [
        "###################################\n",
        "#           Count lines           #\n",
        "###################################\n",
        "\n",
        "num_lines = count_lines(COLA_TEST_INPUT)\n",
        "print(\"Total Entries: %i\" % num_lines)"
      ],
      "execution_count": null,
      "outputs": [
        {
          "output_type": "stream",
          "name": "stdout",
          "text": [
            "Total Entries: 516\n"
          ]
        }
      ]
    },
    {
      "cell_type": "code",
      "metadata": {
        "id": "-CpvVlV6UOVk",
        "colab": {
          "base_uri": "https://localhost:8080/"
        },
        "outputId": "e7d6582c-b9a5-45d7-fb89-e4e86a525487"
      },
      "source": [
        "###################################\n",
        "#    Parse into correct format    #\n",
        "###################################\n",
        "\n",
        "parsed_lines = cola_parse(COLA_TEST_INPUT, num_lines)"
      ],
      "execution_count": null,
      "outputs": [
        {
          "output_type": "stream",
          "name": "stdout",
          "text": [
            "Processing sentence 516/516: 100%"
          ]
        }
      ]
    },
    {
      "cell_type": "code",
      "metadata": {
        "id": "_3aZbmn3UQgV",
        "colab": {
          "base_uri": "https://localhost:8080/"
        },
        "outputId": "e4b7447f-ec40-4fc4-a058-c3bd7f772416"
      },
      "source": [
        "###################################\n",
        "#    Duplicate incorrect lines    #\n",
        "###################################\n",
        "\n",
        "total_lines = cola_oversample(parsed_lines)"
      ],
      "execution_count": null,
      "outputs": [
        {
          "output_type": "stream",
          "name": "stdout",
          "text": [
            "Total Correct Entries: 354\n",
            "Total Incorrect Entries: 162\n",
            "\n",
            "New Total Incorrect Entries: 354\n",
            "New Total Entries: 708\n"
          ]
        }
      ]
    },
    {
      "cell_type": "code",
      "metadata": {
        "id": "AyGSdn3iUTKb",
        "colab": {
          "base_uri": "https://localhost:8080/"
        },
        "outputId": "0b91071b-3cb0-4aa2-b0b8-bc46adc92314"
      },
      "source": [
        "####################################\n",
        "#       Write to output file       #\n",
        "####################################\n",
        "\n",
        "# Write to test file\n",
        "write_parsed(COLA_TEST_OUTPUT, total_lines)"
      ],
      "execution_count": null,
      "outputs": [
        {
          "output_type": "stream",
          "name": "stdout",
          "text": [
            "Writing to cola-test.tsv... Complete\n"
          ]
        }
      ]
    },
    {
      "cell_type": "markdown",
      "metadata": {
        "id": "cxUyJOEcUiR_"
      },
      "source": [
        "## **Download Files**"
      ]
    },
    {
      "cell_type": "code",
      "metadata": {
        "id": "NgxL1wrYUhq8",
        "colab": {
          "base_uri": "https://localhost:8080/",
          "height": 17
        },
        "outputId": "37ec3a32-b947-4a82-b31e-9eed9ca5b926"
      },
      "source": [
        "####################################\n",
        "#         Download Locally         #\n",
        "####################################\n",
        "\n",
        "files.download(LANG_OUTPUT)\n",
        "files.download(COLA_TRAIN_OUTPUT)\n",
        "files.download(COLA_VAL_OUTPUT)\n",
        "files.download(COLA_TEST_OUTPUT)"
      ],
      "execution_count": null,
      "outputs": [
        {
          "output_type": "display_data",
          "data": {
            "application/javascript": [
              "\n",
              "    async function download(id, filename, size) {\n",
              "      if (!google.colab.kernel.accessAllowed) {\n",
              "        return;\n",
              "      }\n",
              "      const div = document.createElement('div');\n",
              "      const label = document.createElement('label');\n",
              "      label.textContent = `Downloading \"${filename}\": `;\n",
              "      div.appendChild(label);\n",
              "      const progress = document.createElement('progress');\n",
              "      progress.max = size;\n",
              "      div.appendChild(progress);\n",
              "      document.body.appendChild(div);\n",
              "\n",
              "      const buffers = [];\n",
              "      let downloaded = 0;\n",
              "\n",
              "      const channel = await google.colab.kernel.comms.open(id);\n",
              "      // Send a message to notify the kernel that we're ready.\n",
              "      channel.send({})\n",
              "\n",
              "      for await (const message of channel.messages) {\n",
              "        // Send a message to notify the kernel that we're ready.\n",
              "        channel.send({})\n",
              "        if (message.buffers) {\n",
              "          for (const buffer of message.buffers) {\n",
              "            buffers.push(buffer);\n",
              "            downloaded += buffer.byteLength;\n",
              "            progress.value = downloaded;\n",
              "          }\n",
              "        }\n",
              "      }\n",
              "      const blob = new Blob(buffers, {type: 'application/binary'});\n",
              "      const a = document.createElement('a');\n",
              "      a.href = window.URL.createObjectURL(blob);\n",
              "      a.download = filename;\n",
              "      div.appendChild(a);\n",
              "      a.click();\n",
              "      div.remove();\n",
              "    }\n",
              "  "
            ],
            "text/plain": [
              "<IPython.core.display.Javascript object>"
            ]
          },
          "metadata": {}
        },
        {
          "output_type": "display_data",
          "data": {
            "application/javascript": [
              "download(\"download_029aa173-b97a-4fdb-b955-24d309e39e12\", \"cola-train.tsv\", 461386)"
            ],
            "text/plain": [
              "<IPython.core.display.Javascript object>"
            ]
          },
          "metadata": {}
        },
        {
          "output_type": "display_data",
          "data": {
            "application/javascript": [
              "\n",
              "    async function download(id, filename, size) {\n",
              "      if (!google.colab.kernel.accessAllowed) {\n",
              "        return;\n",
              "      }\n",
              "      const div = document.createElement('div');\n",
              "      const label = document.createElement('label');\n",
              "      label.textContent = `Downloading \"${filename}\": `;\n",
              "      div.appendChild(label);\n",
              "      const progress = document.createElement('progress');\n",
              "      progress.max = size;\n",
              "      div.appendChild(progress);\n",
              "      document.body.appendChild(div);\n",
              "\n",
              "      const buffers = [];\n",
              "      let downloaded = 0;\n",
              "\n",
              "      const channel = await google.colab.kernel.comms.open(id);\n",
              "      // Send a message to notify the kernel that we're ready.\n",
              "      channel.send({})\n",
              "\n",
              "      for await (const message of channel.messages) {\n",
              "        // Send a message to notify the kernel that we're ready.\n",
              "        channel.send({})\n",
              "        if (message.buffers) {\n",
              "          for (const buffer of message.buffers) {\n",
              "            buffers.push(buffer);\n",
              "            downloaded += buffer.byteLength;\n",
              "            progress.value = downloaded;\n",
              "          }\n",
              "        }\n",
              "      }\n",
              "      const blob = new Blob(buffers, {type: 'application/binary'});\n",
              "      const a = document.createElement('a');\n",
              "      a.href = window.URL.createObjectURL(blob);\n",
              "      a.download = filename;\n",
              "      div.appendChild(a);\n",
              "      a.click();\n",
              "      div.remove();\n",
              "    }\n",
              "  "
            ],
            "text/plain": [
              "<IPython.core.display.Javascript object>"
            ]
          },
          "metadata": {}
        },
        {
          "output_type": "display_data",
          "data": {
            "application/javascript": [
              "download(\"download_902e6bcf-d2c8-4e47-9ba5-b1129e1e355c\", \"cola-validate.tsv\", 51846)"
            ],
            "text/plain": [
              "<IPython.core.display.Javascript object>"
            ]
          },
          "metadata": {}
        },
        {
          "output_type": "display_data",
          "data": {
            "application/javascript": [
              "\n",
              "    async function download(id, filename, size) {\n",
              "      if (!google.colab.kernel.accessAllowed) {\n",
              "        return;\n",
              "      }\n",
              "      const div = document.createElement('div');\n",
              "      const label = document.createElement('label');\n",
              "      label.textContent = `Downloading \"${filename}\": `;\n",
              "      div.appendChild(label);\n",
              "      const progress = document.createElement('progress');\n",
              "      progress.max = size;\n",
              "      div.appendChild(progress);\n",
              "      document.body.appendChild(div);\n",
              "\n",
              "      const buffers = [];\n",
              "      let downloaded = 0;\n",
              "\n",
              "      const channel = await google.colab.kernel.comms.open(id);\n",
              "      // Send a message to notify the kernel that we're ready.\n",
              "      channel.send({})\n",
              "\n",
              "      for await (const message of channel.messages) {\n",
              "        // Send a message to notify the kernel that we're ready.\n",
              "        channel.send({})\n",
              "        if (message.buffers) {\n",
              "          for (const buffer of message.buffers) {\n",
              "            buffers.push(buffer);\n",
              "            downloaded += buffer.byteLength;\n",
              "            progress.value = downloaded;\n",
              "          }\n",
              "        }\n",
              "      }\n",
              "      const blob = new Blob(buffers, {type: 'application/binary'});\n",
              "      const a = document.createElement('a');\n",
              "      a.href = window.URL.createObjectURL(blob);\n",
              "      a.download = filename;\n",
              "      div.appendChild(a);\n",
              "      a.click();\n",
              "      div.remove();\n",
              "    }\n",
              "  "
            ],
            "text/plain": [
              "<IPython.core.display.Javascript object>"
            ]
          },
          "metadata": {}
        },
        {
          "output_type": "display_data",
          "data": {
            "application/javascript": [
              "download(\"download_be05f06e-b470-4dc1-9b37-0011de4705fe\", \"cola-test.tsv\", 32113)"
            ],
            "text/plain": [
              "<IPython.core.display.Javascript object>"
            ]
          },
          "metadata": {}
        }
      ]
    },
    {
      "cell_type": "code",
      "metadata": {
        "id": "YzhKCtTlVYAq"
      },
      "source": [
        "####################################\n",
        "#     Download to Google Drive     #\n",
        "####################################\n",
        "\n",
        "# Folder path to download the files to\n",
        "# Note: folder must already exist and will not be created when downloading\n",
        "folder_path = 'Galileo'\n",
        "\n",
        "from google.colab import drive\n",
        "drive.mount('/content/drive')\n",
        "\n",
        "os.system('cp {} \"./drive/My Drive/{}/{}\"'.format(LANG_OUTPUT, folder_path, LANG_OUTPUT))\n",
        "os.system('cp {} \"./drive/My Drive/{}/{}\"'.format(COLA_TRAIN_OUTPUT, folder_path, COLA_TRAIN_OUTPUT))\n",
        "os.system('cp {} \"./drive/My Drive/{}/{}\"'.format(COLA_VAL_OUTPUT, folder_path, COLA_VAL_OUTPUT))\n",
        "os.system('cp {} \"./drive/My Drive/{}/{}\"'.format(COLA_TEST_OUTPUT, folder_path, COLA_TEST_OUTPUT))"
      ],
      "execution_count": null,
      "outputs": []
    }
  ]
}